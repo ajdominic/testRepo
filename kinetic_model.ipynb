{
 "cells": [
  {
   "cell_type": "code",
   "execution_count": 1,
   "metadata": {},
   "outputs": [],
   "source": [
    "%matplotlib inline\n",
    "import matplotlib.pyplot as plt\n",
    "import numpy as np"
   ]
  },
  {
   "cell_type": "code",
   "execution_count": 2,
   "metadata": {},
   "outputs": [],
   "source": [
    "def normalize_columns(matrix):\n",
    "    \"\"\"\n",
    "    - This function normalizes the columns of the given matrix by dividing each element of a given column by the sum of the elements\n",
    "    of that column.\n",
    "    \n",
    "    - Specifying an order of 1 in the linalg.norm indicates that we are dividing by the sum of the column. \n",
    "    \n",
    "    -Summing down a column is specified by setting axis = 0.\n",
    "    \"\"\"\n",
    "    return matrix / np.linalg.norm(matrix, ord=1, axis=0, keepdims=True)"
   ]
  },
  {
   "cell_type": "code",
   "execution_count": 3,
   "metadata": {},
   "outputs": [],
   "source": [
    "def propagate(T, n):\n",
    "    \"\"\"\n",
    "    Propagates the transition probability matrix (TPM) n times\n",
    "    \n",
    "    Inputs:\n",
    "    1. T - the transition probability matrix (TPM)\n",
    "    2. n - the number of times that the TPM should be propagated\n",
    "    \n",
    "    Output:\n",
    "    1. The propagated TPM\n",
    "    \"\"\"\n",
    "    return np.linalg.matrix_power(T, n)"
   ]
  },
  {
   "cell_type": "code",
   "execution_count": 4,
   "metadata": {},
   "outputs": [],
   "source": [
    "# Define the transition count matrix; notice that C.T = C, i.e. it is symmetric\n",
    "C = np.array([[30000.0, 100.0, 0.0, 0.0, 0.0, 0.0],\n",
    "              [100.0,   10000.0, 3.0, 0.0, 0.0, 0.0],\n",
    "              [0.0, 3.0, 3000.0, 10.0, 0.0, 0.0],\n",
    "              [0.0, 0.0, 10.0, 1000.0, 1.0, 0.0],\n",
    "              [0.0, 0.0, 0.0, 1.0, 300.0, 3.0], \n",
    "              [0.0, 0.0, 0.0, 0.0, 3.0, 100.0]])"
   ]
  },
  {
   "cell_type": "code",
   "execution_count": 5,
   "metadata": {},
   "outputs": [],
   "source": [
    "# normalizes the columns of C before propagation\n",
    "T = normalize_columns(C)"
   ]
  },
  {
   "cell_type": "code",
   "execution_count": 6,
   "metadata": {},
   "outputs": [
    {
     "name": "stdout",
     "output_type": "stream",
     "text": [
      "[[7.32619427e-01 7.19116474e-01 2.00863260e-01 1.53624913e-01\n",
      "  5.70329356e-02 4.92012223e-02]\n",
      " [2.41369891e-01 2.39325248e-01 1.03712869e-01 8.91169999e-02\n",
      "  4.34356576e-02 3.95600509e-02]\n",
      " [2.01063455e-02 3.09301073e-02 4.78681648e-01 4.99506783e-01\n",
      "  3.66952695e-01 3.54265451e-01]\n",
      " [5.15995970e-03 8.91787458e-03 1.67607487e-01 1.81133827e-01\n",
      "  1.90189298e-01 1.90706045e-01]\n",
      " [5.76013702e-04 1.30698208e-03 3.70241020e-02 5.71884735e-02\n",
      "  2.51326958e-01 2.68766859e-01]\n",
      " [1.68362987e-04 4.03314386e-04 1.21106344e-02 1.94290036e-02\n",
      "  9.10624557e-02 9.75003714e-02]]\n"
     ]
    }
   ],
   "source": [
    "Tn = propagate(T, 500)\n",
    "v1 = np.array([1.0, 0.0, 0.0, 0.0, 0.0, 0.0])\n",
    "v2 = np.array([0.0, 1.0, 0.0, 0.0, 0.0, 0.0])\n",
    "v3 = np.array([0.0, 0.0, 1.0, 0.0, 0.0, 0.0])\n",
    "v4 = np.array([0.0, 0.0, 0.0, 1.0, 0.0, 0.0])\n",
    "v5 = np.array([0.0, 0.0, 0.0, 0.0, 1.0, 0.0])\n",
    "v6 = np.array([0.0, 0.0, 0.0, 0.0, 0.0, 1.0])\n",
    "print(Tn)"
   ]
  },
  {
   "cell_type": "code",
   "execution_count": 7,
   "metadata": {},
   "outputs": [
    {
     "name": "stdout",
     "output_type": "stream",
     "text": [
      "[7.32619427e-01 2.41369891e-01 2.01063455e-02 5.15995970e-03\n",
      " 5.76013702e-04 1.68362987e-04]\n",
      "[7.19116474e-01 2.39325248e-01 3.09301073e-02 8.91787458e-03\n",
      " 1.30698208e-03 4.03314386e-04]\n",
      "[0.20086326 0.10371287 0.47868165 0.16760749 0.0370241  0.01211063]\n",
      "[0.15362491 0.089117   0.49950678 0.18113383 0.05718847 0.019429  ]\n",
      "[0.05703294 0.04343566 0.36695269 0.1901893  0.25132696 0.09106246]\n",
      "[0.04920122 0.03956005 0.35426545 0.19070605 0.26876686 0.09750037]\n"
     ]
    }
   ],
   "source": [
    "# Making sure that each of the basis vectors in R^6 returns the same result\n",
    "# which denotes the equilibrium populations of each nodes (microstate)\n",
    "print(np.dot(Tn,v1))\n",
    "print(np.dot(Tn,v2))\n",
    "print(np.dot(Tn,v3))\n",
    "print(np.dot(Tn,v4))\n",
    "print(np.dot(Tn,v5))\n",
    "print(np.dot(Tn,v6))"
   ]
  },
  {
   "cell_type": "code",
   "execution_count": 8,
   "metadata": {},
   "outputs": [],
   "source": [
    "# raise to the power of n using loops so that we can extract eigenvalues\n",
    "ctr = 0\n",
    "n = 500\n",
    "Tn_loop = np.identity(6)\n",
    "time = np.arange(n)\n",
    "ITS0 = np.zeros(n, float)\n",
    "ITS1 = np.zeros(n, float)\n",
    "ITS2 = np.zeros(n, float)\n",
    "ITS3 = np.zeros(n, float)\n",
    "ITS4 = np.zeros(n, float)\n",
    "ITS5 = np.zeros(n, float)\n",
    "\n",
    "\n",
    "while (ctr < n):\n",
    "    Tn_loop = np.dot(Tn_loop, T)\n",
    "    eig, unitary = np.linalg.eig(Tn_loop)\n",
    "    \n",
    "    eig = np.sort(eig, axis=None)\n",
    "    #print(eig)\n",
    "    \n",
    "    lbda0 = eig[0]\n",
    "    lbda1 = eig[1]\n",
    "    lbda2 = eig[2]\n",
    "    lbda3 = eig[3]\n",
    "    lbda4 = eig[4]\n",
    "    #lbda5 = eig[5]\n",
    "    \n",
    "    ITS0[ctr] = - float(ctr) / np.log(lbda0)\n",
    "    ITS1[ctr] = - float(ctr) / np.log(lbda1)\n",
    "    ITS2[ctr] = - float(ctr) / np.log(lbda2)\n",
    "    ITS3[ctr] = - float(ctr) / np.log(lbda3)\n",
    "    ITS4[ctr] = - float(ctr) / np.log(lbda4)\n",
    "    #ITS5[ctr] = - float(ctr) / np.log(lbda5)\n",
    "    \n",
    "    ctr = ctr + 1\n",
    "    \n",
    "#print(Tn_loop)"
   ]
  },
  {
   "cell_type": "code",
   "execution_count": 9,
   "metadata": {},
   "outputs": [
    {
     "data": {
      "image/png": "[encoded data removed]",
      "text/plain": [
       "<Figure size 432x288 with 1 Axes>"
      ]
     },
     "metadata": {
      "needs_background": "light"
     },
     "output_type": "display_data"
    }
   ],
   "source": [
    "plt.title('Figure 3a')\n",
    "plt.plot(time, ITS0)\n",
    "plt.plot(time, ITS1)\n",
    "plt.plot(time, ITS2)\n",
    "plt.plot(time, ITS3)\n",
    "plt.plot(time, ITS4)\n",
    "#plt.plot(time, ITS5)\n",
    "plt.xlabel(\"$ t_T $\")\n",
    "plt.ylabel(\"ITS\")\n",
    "plt.show()"
   ]
  },
  {
   "cell_type": "code",
   "execution_count": 10,
   "metadata": {},
   "outputs": [
    {
     "name": "stdout",
     "output_type": "stream",
     "text": [
      "[[1. 0. 0.]\n",
      " [1. 0. 0.]\n",
      " [0. 1. 0.]\n",
      " [0. 1. 0.]\n",
      " [0. 0. 1.]\n",
      " [0. 0. 1.]]\n"
     ]
    }
   ],
   "source": [
    "# define matrices for the good lumpings\n",
    "A = np.array([[1.0, 1.0, 0.0, 0.0, 0.0, 0.0],\n",
    "                 [0.0, 0.0, 1.0, 1.0, 0.0, 0.0],\n",
    "                 [0.0, 0.0, 0.0, 0.0, 1.0, 1.0]]).T\n",
    "\n",
    "print(A)"
   ]
  },
  {
   "cell_type": "markdown",
   "metadata": {},
   "source": [
    "## Working towards building the figures for the three state model"
   ]
  },
  {
   "cell_type": "code",
   "execution_count": 11,
   "metadata": {},
   "outputs": [
    {
     "name": "stdout",
     "output_type": "stream",
     "text": [
      "[[7.32619427e-01 0.00000000e+00 0.00000000e+00 0.00000000e+00\n",
      "  0.00000000e+00 0.00000000e+00]\n",
      " [0.00000000e+00 2.41369891e-01 0.00000000e+00 0.00000000e+00\n",
      "  0.00000000e+00 0.00000000e+00]\n",
      " [0.00000000e+00 0.00000000e+00 2.01063455e-02 0.00000000e+00\n",
      "  0.00000000e+00 0.00000000e+00]\n",
      " [0.00000000e+00 0.00000000e+00 0.00000000e+00 5.15995970e-03\n",
      "  0.00000000e+00 0.00000000e+00]\n",
      " [0.00000000e+00 0.00000000e+00 0.00000000e+00 0.00000000e+00\n",
      "  5.76013702e-04 0.00000000e+00]\n",
      " [0.00000000e+00 0.00000000e+00 0.00000000e+00 0.00000000e+00\n",
      "  0.00000000e+00 1.68362987e-04]]\n"
     ]
    }
   ],
   "source": [
    "# create matrix where the diagonal elements are the equilibrium populations of each microstate\n",
    "pop_eq = np.dot(Tn,v1)\n",
    "PI = np.diag(pop_eq)\n",
    "PI_inv = np.linalg.inv(PI)\n",
    "print(PI)"
   ]
  },
  {
   "cell_type": "code",
   "execution_count": 12,
   "metadata": {},
   "outputs": [
    {
     "name": "stdout",
     "output_type": "stream",
     "text": [
      "[[9.73989318e-01 0.00000000e+00 0.00000000e+00]\n",
      " [0.00000000e+00 2.52663053e-02 0.00000000e+00]\n",
      " [0.00000000e+00 0.00000000e+00 7.44376689e-04]]\n"
     ]
    }
   ],
   "source": [
    "# three-state model for good and bad lumpings\n",
    "DN = np.dot(A.T, np.dot(PI, A))\n",
    "print(DN)"
   ]
  },
  {
   "cell_type": "markdown",
   "metadata": {},
   "source": [
    "This block of code takes the existing propagated T matrix and computes $\\tau (t)$ via\n",
    "\\begin{align*}\n",
    "    \\tau (t) =  A^T \\cdot T(t) \\cdot \\Pi \\cdot A \\cdot D^{-1}.\n",
    "\\end{align*}"
   ]
  },
  {
   "cell_type": "code",
   "execution_count": 13,
   "metadata": {},
   "outputs": [],
   "source": [
    "def get_M(T):\n",
    "    # T(0) = I so T_at_1 is just the output from above\n",
    "    T_at_1 = T\n",
    "\n",
    "    # find the symmetric matrix that diagonalizes T\n",
    "    eig, symmetric = np.linalg.eigh(T_at_1)\n",
    "\n",
    "    # this should be close to the 6x6 identity\n",
    "    #print(np.dot(symmetric, symmetric.T))\n",
    "\n",
    "    # diagonalize it\n",
    "    D = np.dot(np.dot(symmetric.T, T), symmetric)\n",
    "    D_diagonal_elements = np.diag(D)\n",
    "    log_D_diag = np.log(D_diagonal_elements)\n",
    "    log_D_diag_matrix = np.diag(log_D_diag)\n",
    "\n",
    "    #print(log_D_diag_matrix)\n",
    "\n",
    "    # compute M\n",
    "    M = - np.dot(np.dot(symmetric, log_D_diag_matrix), symmetric)\n",
    "    #print(M)\n",
    "    \n",
    "    return M"
   ]
  },
  {
   "cell_type": "code",
   "execution_count": 14,
   "metadata": {},
   "outputs": [],
   "source": [
    "# construct the derivative of tau at zero\n",
    "M = get_M(T)\n",
    "PAD = np.dot(np.dot(PI, A), np.linalg.inv(DN))\n",
    "AT_zero = np.dot(A.T, M)\n",
    "AT_zero_squared = np.dot(A.T, np.dot(M, M))\n",
    "\n",
    "# getting the derivative of tau evaluated at zero, this is used a lot\n",
    "tau_1st_deriv_zero = np.dot(AT_zero, PAD)"
   ]
  },
  {
   "cell_type": "code",
   "execution_count": 15,
   "metadata": {},
   "outputs": [],
   "source": [
    "# raise to the power of n using loops so that we can extract eigenvalues\n",
    "ctr = 0\n",
    "n = 500\n",
    "dim_red = 3\n",
    "tau_n_loop = np.identity(dim_red)\n",
    "Tn_loop1 = np.identity(6)\n",
    "\n",
    "# d/dt T(t) at t = 0 which is M matrix\n",
    "M = get_M(T)\n",
    "M2 = np.dot(M,M)\n",
    "\n",
    "# initialize arrays\n",
    "time = np.arange(n)\n",
    "ITS0 = np.zeros(n, float)\n",
    "ITS1 = np.zeros(n, float)\n",
    "\n",
    "auxk1 = np.empty([3, 3, n], dtype='float')\n",
    "auxk3 = np.empty_like(auxk1)\n",
    "tau = np.empty_like(auxk1)\n",
    "\n",
    "# this generates the terms needed for the memory kernel \n",
    "# also we get the eigenvalues of the tau-TPM so that we can plot the implied time scale for the 3x3 system\n",
    "while (ctr < n):\n",
    "        Tn_loop1 = np.dot(Tn_loop1, T)\n",
    "        \n",
    "        # get the first and second derivatives of tau(t) using T'(t) = T'(0)T(t)\n",
    "        PAD = np.dot(PI, np.dot(A, np.linalg.inv(DN)))\n",
    "        TPAD = np.dot(Tn_loop1, PAD)\n",
    "        tau[:, :, ctr] = np.dot(A.T, TPAD)\n",
    "        \n",
    "        tau_1st_deriv = np.dot(A.T, np.dot(M, TPAD))\n",
    "        tau_2nd_deriv = np.dot(A.T, np.dot(M2, TPAD))\n",
    "        \n",
    "        #TPAD = np.dot(Tn_loop1, np.dot())\n",
    "        #a = np.dot(A.T, Tn_loop1)\n",
    "        #b = np.dot(a, PI)\n",
    "        #c = np.dot(b, A)\n",
    "        #tau = np.dot(c, np.linalg.inv(DN))\n",
    "        \n",
    "        # term one is the tau_2nd_deriv\n",
    "        term_2 = np.dot(tau_1st_deriv, tau_1st_deriv_zero)\n",
    "        term_3 = np.dot(tau_1st_deriv_zero, tau_1st_deriv)\n",
    "        term_4 = np.dot(term_3, tau_1st_deriv_zero)\n",
    "        \n",
    "        auxk1[:, :, ctr] =  tau_2nd_deriv - term_2 - term_3 + term_4\n",
    "        auxk3[:, :, ctr] = - tau_1st_deriv + term_3\n",
    "        \n",
    "        eig, unitary = np.linalg.eig(tau[:, :, ctr])\n",
    "        eig = np.sort(eig, axis=None)\n",
    "        #print(eig)\n",
    "    \n",
    "        lbda0 = eig[0]\n",
    "        lbda1 = eig[1]\n",
    "    \n",
    "        ITS0[ctr] = - float(ctr) / np.log(lbda0)\n",
    "        ITS1[ctr] = - float(ctr) / np.log(lbda1)\n",
    "        \n",
    "        ctr = ctr + 1"
   ]
  },
  {
   "cell_type": "code",
   "execution_count": 16,
   "metadata": {},
   "outputs": [
    {
     "data": {
      "image/png": "[encoded data removed]",
      "text/plain": [
       "<Figure size 432x288 with 1 Axes>"
      ]
     },
     "metadata": {
      "needs_background": "light"
     },
     "output_type": "display_data"
    }
   ],
   "source": [
    "plt.title('Figure 3a')\n",
    "plt.plot(time, ITS0)\n",
    "plt.plot(time, ITS1)\n",
    "#plt.plot(time, ITS2)\n",
    "plt.xlabel(\"$ t_T $\")\n",
    "plt.ylabel(\"ITS\")\n",
    "plt.ylim((0,1600))\n",
    "plt.show()"
   ]
  },
  {
   "cell_type": "code",
   "execution_count": 17,
   "metadata": {},
   "outputs": [],
   "source": [
    "# define the time-step and the prefactor\n",
    "dt = 1\n",
    "temp = np.identity(3) - dt * auxk3[:,:,0] / 2\n",
    "prefac = np.linalg.inv(temp)\n",
    "\n",
    "# generate the memory kernel\n",
    "mem = np.empty_like(auxk1)\n",
    "\n",
    "# at t = 0\n",
    "mem[:,:,0] = auxk1[:,:,0]\n",
    "\n",
    "# at t = 1, trap term includes K^1(1) + terms from trapezoidal rule\n",
    "trap_term = auxk1[:,:,1] + dt * np.dot(auxk3[:,:,1], mem[:,:,0])\n",
    "mem[:,:,1] = np.dot(prefac, trap_term)\n",
    "\n",
    "for j in range(2, n):\n",
    "    trap_int = np.dot(auxk3[:,:,j], mem[:,:,0]) / 2\n",
    "    \n",
    "    for k in range(1, j):\n",
    "        trap_int = trap_int + np.dot(auxk3[:,:,j-k], mem[:,:,k])\n",
    "    \n",
    "    mem[:,:,j] = np.dot(prefac, auxk1[:,:,j] + dt * trap_int)"
   ]
  },
  {
   "cell_type": "code",
   "execution_count": 18,
   "metadata": {},
   "outputs": [],
   "source": [
    "# trying to plot the MIK, the mean integral of the memory kernel\n",
    "MIK = np.zeros(n, dtype = float)\n",
    "calc = 0.0\n",
    "\n",
    "for j in range(1, n):\n",
    "    \n",
    "    temp = mem[:,:,j-1] + mem[:,:,j]\n",
    "    calc = calc + dt * np.sum(np.dot(temp,temp)) / 2\n",
    "    \n",
    "    #print(calc)\n",
    "    MIK[j] = np.sqrt(calc) / dim_red"
   ]
  },
  {
   "cell_type": "code",
   "execution_count": 24,
   "metadata": {},
   "outputs": [
    {
     "data": {
      "image/png": "[encoded data removed]",
      "text/plain": [
       "<Figure size 432x288 with 1 Axes>"
      ]
     },
     "metadata": {
      "needs_background": "light"
     },
     "output_type": "display_data"
    }
   ],
   "source": [
    "plt.title('Figure 3b')\n",
    "plt.plot(time, MIK)\n",
    "plt.xlabel(\"$ t_K $\")\n",
    "plt.ylabel(\"MIK\")\n",
    "#plt.ylim((0,10/10**4))\n",
    "plt.show()"
   ]
  },
  {
   "cell_type": "code",
   "execution_count": 20,
   "metadata": {},
   "outputs": [
    {
     "data": {
      "image/png": "[encoded data removed]",
      "text/plain": [
       "<Figure size 432x288 with 1 Axes>"
      ]
     },
     "metadata": {
      "needs_background": "light"
     },
     "output_type": "display_data"
    },
    {
     "data": {
      "image/png": "[encoded data removed]",
      "text/plain": [
       "<Figure size 432x288 with 1 Axes>"
      ]
     },
     "metadata": {
      "needs_background": "light"
     },
     "output_type": "display_data"
    },
    {
     "data": {
      "image/png": "[encoded data removed]",
      "text/plain": [
       "<Figure size 432x288 with 1 Axes>"
      ]
     },
     "metadata": {
      "needs_background": "light"
     },
     "output_type": "display_data"
    }
   ],
   "source": [
    "# all the row 1 kernel elements\n",
    "plt.title('Figure 3b')\n",
    "plt.plot(time, mem[0,0,:])\n",
    "plt.xlabel(\"$ t_K $\")\n",
    "plt.ylabel(\"$K_{11}$\")\n",
    "plt.ylim((-2,2))\n",
    "plt.show()\n",
    "\n",
    "plt.plot(time, mem[0,1,:])\n",
    "plt.xlabel(\"$ t_K $\")\n",
    "plt.ylabel(\"$K_{12}$\")\n",
    "plt.ylim((-2,2))\n",
    "plt.show()\n",
    "\n",
    "plt.plot(time, mem[0,2,:])\n",
    "plt.xlabel(\"$ t_K $\")\n",
    "plt.ylabel(\"$K_{13}$\")\n",
    "plt.ylim((-2,2))\n",
    "plt.show()"
   ]
  },
  {
   "cell_type": "code",
   "execution_count": 21,
   "metadata": {},
   "outputs": [
    {
     "data": {
      "image/png": "[encoded data removed]",
      "text/plain": [
       "<Figure size 432x288 with 1 Axes>"
      ]
     },
     "metadata": {
      "needs_background": "light"
     },
     "output_type": "display_data"
    },
    {
     "data": {
      "image/png": "[encoded data removed]",
      "text/plain": [
       "<Figure size 432x288 with 1 Axes>"
      ]
     },
     "metadata": {
      "needs_background": "light"
     },
     "output_type": "display_data"
    },
    {
     "data": {
      "image/png": "[encoded data removed]",
      "text/plain": [
       "<Figure size 432x288 with 1 Axes>"
      ]
     },
     "metadata": {
      "needs_background": "light"
     },
     "output_type": "display_data"
    }
   ],
   "source": [
    "# all the row 2 kernel elements\n",
    "plt.title('Figure 3b')\n",
    "plt.plot(time, mem[1,0,:])\n",
    "plt.xlabel(\"$ t_K $\")\n",
    "plt.ylabel(\"$K_{21}$\")\n",
    "plt.ylim((-2,2))\n",
    "plt.show()\n",
    "\n",
    "plt.plot(time, mem[1,1,:])\n",
    "plt.xlabel(\"$ t_K $\")\n",
    "plt.ylabel(\"$K_{22}$\")\n",
    "plt.ylim((-2,2))\n",
    "plt.show()\n",
    "\n",
    "plt.plot(time, mem[1,2,:])\n",
    "plt.xlabel(\"$ t_K $\")\n",
    "plt.ylabel(\"$K_{23}$\")\n",
    "plt.ylim((-2,2))\n",
    "plt.show()"
   ]
  },
  {
   "cell_type": "code",
   "execution_count": 22,
   "metadata": {},
   "outputs": [
    {
     "data": {
      "image/png": "[encoded data removed]",
      "text/plain": [
       "<Figure size 432x288 with 1 Axes>"
      ]
     },
     "metadata": {
      "needs_background": "light"
     },
     "output_type": "display_data"
    },
    {
     "data": {
      "image/png": "[encoded data removed]",
      "text/plain": [
       "<Figure size 432x288 with 1 Axes>"
      ]
     },
     "metadata": {
      "needs_background": "light"
     },
     "output_type": "display_data"
    },
    {
     "data": {
      "image/png": "[encoded data removed]",
      "text/plain": [
       "<Figure size 432x288 with 1 Axes>"
      ]
     },
     "metadata": {
      "needs_background": "light"
     },
     "output_type": "display_data"
    }
   ],
   "source": [
    "# all the row 3 kernel elements\n",
    "plt.title('Figure 3b')\n",
    "plt.plot(time, mem[2,0,:])\n",
    "plt.xlabel(\"$ t_K $\")\n",
    "plt.ylabel(\"$K_{31}$\")\n",
    "plt.ylim((-2,2))\n",
    "plt.show()\n",
    "\n",
    "plt.plot(time, mem[2,1,:])\n",
    "plt.xlabel(\"$ t_K $\")\n",
    "plt.ylabel(\"$K_{32}$\")\n",
    "plt.ylim((-2,2))\n",
    "plt.show()\n",
    "\n",
    "plt.plot(time, mem[2,2,:])\n",
    "plt.xlabel(\"$ t_K $\")\n",
    "plt.ylabel(\"$K_{33}$\")\n",
    "plt.ylim((-2,2))\n",
    "plt.show()"
   ]
  },
  {
   "cell_type": "code",
   "execution_count": null,
   "metadata": {},
   "outputs": [],
   "source": []
  }
 ],
 "metadata": {
  "kernelspec": {
   "display_name": "Python 3",
   "language": "python",
   "name": "python3"
  },
  "language_info": {
   "codemirror_mode": {
    "name": "ipython",
    "version": 3
   },
   "file_extension": ".py",
   "mimetype": "text/x-python",
   "name": "python",
   "nbconvert_exporter": "python",
   "pygments_lexer": "ipython3",
   "version": "3.7.3"
  }
 },
 "nbformat": 4,
 "nbformat_minor": 4
}
